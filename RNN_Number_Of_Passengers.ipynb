{
 "cells": [
  {
   "cell_type": "code",
   "execution_count": 1,
   "metadata": {
    "id": "6PcBpjR8DbuC"
   },
   "outputs": [],
   "source": [
    "# importing libs\n",
    "\n",
    "import numpy as np\n",
    "import pandas as pd\n",
    "import matplotlib.pyplot as plt\n",
    "from sklearn.preprocessing import MinMaxScaler"
   ]
  },
  {
   "cell_type": "code",
   "execution_count": 2,
   "metadata": {
    "colab": {
     "base_uri": "https://localhost:8080/",
     "height": 424
    },
    "id": "8-CUWmfXD6fy",
    "outputId": "1fc8a4c4-f998-4f18-aa28-687fcea751df"
   },
   "outputs": [
    {
     "data": {
      "text/html": [
       "<div>\n",
       "<style scoped>\n",
       "    .dataframe tbody tr th:only-of-type {\n",
       "        vertical-align: middle;\n",
       "    }\n",
       "\n",
       "    .dataframe tbody tr th {\n",
       "        vertical-align: top;\n",
       "    }\n",
       "\n",
       "    .dataframe thead th {\n",
       "        text-align: right;\n",
       "    }\n",
       "</style>\n",
       "<table border=\"1\" class=\"dataframe\">\n",
       "  <thead>\n",
       "    <tr style=\"text-align: right;\">\n",
       "      <th></th>\n",
       "      <th>Month</th>\n",
       "      <th>International airline passengers: monthly totals in thousands. Jan 49 ? Dec 60</th>\n",
       "    </tr>\n",
       "  </thead>\n",
       "  <tbody>\n",
       "    <tr>\n",
       "      <th>0</th>\n",
       "      <td>1949-01</td>\n",
       "      <td>112.0</td>\n",
       "    </tr>\n",
       "    <tr>\n",
       "      <th>1</th>\n",
       "      <td>1949-02</td>\n",
       "      <td>118.0</td>\n",
       "    </tr>\n",
       "    <tr>\n",
       "      <th>2</th>\n",
       "      <td>1949-03</td>\n",
       "      <td>132.0</td>\n",
       "    </tr>\n",
       "    <tr>\n",
       "      <th>3</th>\n",
       "      <td>1949-04</td>\n",
       "      <td>129.0</td>\n",
       "    </tr>\n",
       "    <tr>\n",
       "      <th>4</th>\n",
       "      <td>1949-05</td>\n",
       "      <td>121.0</td>\n",
       "    </tr>\n",
       "    <tr>\n",
       "      <th>...</th>\n",
       "      <td>...</td>\n",
       "      <td>...</td>\n",
       "    </tr>\n",
       "    <tr>\n",
       "      <th>140</th>\n",
       "      <td>1960-09</td>\n",
       "      <td>508.0</td>\n",
       "    </tr>\n",
       "    <tr>\n",
       "      <th>141</th>\n",
       "      <td>1960-10</td>\n",
       "      <td>461.0</td>\n",
       "    </tr>\n",
       "    <tr>\n",
       "      <th>142</th>\n",
       "      <td>1960-11</td>\n",
       "      <td>390.0</td>\n",
       "    </tr>\n",
       "    <tr>\n",
       "      <th>143</th>\n",
       "      <td>1960-12</td>\n",
       "      <td>432.0</td>\n",
       "    </tr>\n",
       "    <tr>\n",
       "      <th>144</th>\n",
       "      <td>International airline passengers: monthly tota...</td>\n",
       "      <td>NaN</td>\n",
       "    </tr>\n",
       "  </tbody>\n",
       "</table>\n",
       "<p>145 rows × 2 columns</p>\n",
       "</div>"
      ],
      "text/plain": [
       "                                                 Month  \\\n",
       "0                                              1949-01   \n",
       "1                                              1949-02   \n",
       "2                                              1949-03   \n",
       "3                                              1949-04   \n",
       "4                                              1949-05   \n",
       "..                                                 ...   \n",
       "140                                            1960-09   \n",
       "141                                            1960-10   \n",
       "142                                            1960-11   \n",
       "143                                            1960-12   \n",
       "144  International airline passengers: monthly tota...   \n",
       "\n",
       "     International airline passengers: monthly totals in thousands. Jan 49 ? Dec 60  \n",
       "0                                                112.0                               \n",
       "1                                                118.0                               \n",
       "2                                                132.0                               \n",
       "3                                                129.0                               \n",
       "4                                                121.0                               \n",
       "..                                                 ...                               \n",
       "140                                              508.0                               \n",
       "141                                              461.0                               \n",
       "142                                              390.0                               \n",
       "143                                              432.0                               \n",
       "144                                                NaN                               \n",
       "\n",
       "[145 rows x 2 columns]"
      ]
     },
     "execution_count": 2,
     "metadata": {},
     "output_type": "execute_result"
    }
   ],
   "source": [
    "# read dataset of train\n",
    "\n",
    "dataset = pd.read_csv('dataset_passengers.csv')\n",
    "number_of_passengers = dataset.iloc[:,1]\n",
    "dataset"
   ]
  },
  {
   "cell_type": "code",
   "execution_count": 3,
   "metadata": {
    "colab": {
     "base_uri": "https://localhost:8080/"
    },
    "id": "hbqqDzjrGf51",
    "outputId": "78c8d159-6c72-4b72-ffdf-32a155715869"
   },
   "outputs": [
    {
     "data": {
      "text/plain": [
       "(104.0, 622.0)"
      ]
     },
     "execution_count": 3,
     "metadata": {},
     "output_type": "execute_result"
    }
   ],
   "source": [
    "# min max of data\n",
    "\n",
    "number_of_passengers.min(axis=0) ,number_of_passengers.max(axis=0)"
   ]
  },
  {
   "cell_type": "code",
   "execution_count": 4,
   "metadata": {
    "colab": {
     "base_uri": "https://localhost:8080/"
    },
    "id": "OLGDBXCXEPBb",
    "outputId": "c42e8caf-48ee-4a14-c47f-34cb18c80d2c"
   },
   "outputs": [
    {
     "data": {
      "text/plain": [
       "0      0.015444\n",
       "1      0.027027\n",
       "2      0.054054\n",
       "3      0.048263\n",
       "4      0.032819\n",
       "         ...   \n",
       "140    0.779923\n",
       "141    0.689189\n",
       "142    0.552124\n",
       "143    0.633205\n",
       "144         NaN\n",
       "Name: International airline passengers: monthly totals in thousands. Jan 49 ? Dec 60, Length: 145, dtype: float64"
      ]
     },
     "execution_count": 4,
     "metadata": {},
     "output_type": "execute_result"
    }
   ],
   "source": [
    "# scale data between 0 and 1\n",
    "\n",
    "min = number_of_passengers.min(axis=0)\n",
    "max = number_of_passengers.max(axis=0)\n",
    "X_std = (number_of_passengers - min) / (max - min)\n",
    "X_scaled = X_std \n",
    "X_scaled"
   ]
  },
  {
   "cell_type": "code",
   "execution_count": 5,
   "metadata": {
    "id": "qkjmlezPFlnE"
   },
   "outputs": [],
   "source": [
    "# split data for train and test \n",
    "\n",
    "X_split1 = X_scaled[:100]\n",
    "X_split2 = X_scaled[100:145]\n",
    "\n",
    "\n",
    "X_train = []\n",
    "Y_train = []\n",
    "X_number_train = []\n",
    "for i in range(5,100):\n",
    "    X_train.append(X_split1[i-5:i])\n",
    "    Y_train.append(X_split1[i])\n",
    "    X_number_train.append(i)"
   ]
  },
  {
   "cell_type": "code",
   "execution_count": 6,
   "metadata": {
    "colab": {
     "base_uri": "https://localhost:8080/"
    },
    "id": "w2ZUIby8XFTX",
    "outputId": "7b2342ef-4e20-4927-8cab-890dba4ee2d7"
   },
   "outputs": [
    {
     "data": {
      "text/plain": [
       "((95, 5), (95,))"
      ]
     },
     "execution_count": 6,
     "metadata": {},
     "output_type": "execute_result"
    }
   ],
   "source": [
    "# reforming data\n",
    "\n",
    "X_train,Y_train = np.array(X_train),np.array(Y_train)\n",
    "X_train.shape , Y_train.shape"
   ]
  },
  {
   "cell_type": "code",
   "execution_count": 7,
   "metadata": {
    "colab": {
     "base_uri": "https://localhost:8080/"
    },
    "id": "6lRwFsT5Vcab",
    "outputId": "52944f8e-73f6-408e-f5fe-1c87f704210b"
   },
   "outputs": [
    {
     "data": {
      "text/plain": [
       "49"
      ]
     },
     "execution_count": 7,
     "metadata": {},
     "output_type": "execute_result"
    }
   ],
   "source": [
    "# test data\n",
    "\n",
    "X_test_ = []\n",
    "for i in range(5):\n",
    "    X_test_.append(X_split1[95+i])\n",
    "\n",
    "for i in range(100,144):\n",
    "    X_test_.append(X_split2[i])\n",
    "\n",
    "len(X_test_)\n"
   ]
  },
  {
   "cell_type": "code",
   "execution_count": 8,
   "metadata": {
    "id": "ep8FgI6vUXo3"
   },
   "outputs": [],
   "source": [
    "X_test = []\n",
    "Y_test = []\n",
    "X_number_test = []\n",
    "\n",
    "for i in range(5,49):\n",
    "    X_test.append(X_test_[i-5:i])\n",
    "    Y_test.append(X_test_[i])\n",
    "    X_number_test.append(i+95)\n"
   ]
  },
  {
   "cell_type": "code",
   "execution_count": 9,
   "metadata": {
    "colab": {
     "base_uri": "https://localhost:8080/"
    },
    "id": "9i0F2kArZU00",
    "outputId": "74dfabc7-c758-47ad-ad6f-a448b514a1f3"
   },
   "outputs": [
    {
     "data": {
      "text/plain": [
       "((44, 5), (44,))"
      ]
     },
     "execution_count": 9,
     "metadata": {},
     "output_type": "execute_result"
    }
   ],
   "source": [
    "# reforming data \n",
    "\n",
    "X_test = np.array(X_test)\n",
    "Y_test = np.array(Y_test)\n",
    "\n",
    "X_test.shape ,Y_test.shape"
   ]
  },
  {
   "cell_type": "code",
   "execution_count": 10,
   "metadata": {
    "colab": {
     "base_uri": "https://localhost:8080/"
    },
    "id": "Q-WYPUH-Zds8",
    "outputId": "74d5d804-1409-476b-d40d-a2e6457a969c"
   },
   "outputs": [
    {
     "data": {
      "text/plain": [
       "(95, 5, 1)"
      ]
     },
     "execution_count": 10,
     "metadata": {},
     "output_type": "execute_result"
    }
   ],
   "source": [
    "# reshape train data \n",
    "\n",
    "X_train = np.reshape(X_train,(X_train.shape[0],X_train.shape[1],1))\n",
    "X_train.shape"
   ]
  },
  {
   "cell_type": "code",
   "execution_count": 11,
   "metadata": {
    "colab": {
     "base_uri": "https://localhost:8080/"
    },
    "id": "k6elkCBTZ_-v",
    "outputId": "4127b00a-917d-4c12-8fa7-e9a53b901b00"
   },
   "outputs": [
    {
     "data": {
      "text/plain": [
       "(44, 5, 1)"
      ]
     },
     "execution_count": 11,
     "metadata": {},
     "output_type": "execute_result"
    }
   ],
   "source": [
    "# reshape test data\n",
    "\n",
    "X_test = np.reshape(X_test,(X_test.shape[0],X_test.shape[1],1))\n",
    "X_test.shape"
   ]
  },
  {
   "cell_type": "code",
   "execution_count": 12,
   "metadata": {
    "id": "hTDzxfpGaFTG"
   },
   "outputs": [],
   "source": [
    "# import libs\n",
    "\n",
    "import tensorflow\n",
    "from tensorflow.keras import Sequential\n",
    "from tensorflow.keras.layers import Dense\n",
    "from tensorflow.keras.layers import LSTM\n",
    "from tensorflow.keras.layers import Dropout"
   ]
  },
  {
   "cell_type": "code",
   "execution_count": 13,
   "metadata": {
    "id": "1cM6u3vqaJEA"
   },
   "outputs": [],
   "source": [
    "# Preparing sequential model\n",
    "\n",
    "model = Sequential()"
   ]
  },
  {
   "cell_type": "code",
   "execution_count": 14,
   "metadata": {
    "colab": {
     "base_uri": "https://localhost:8080/"
    },
    "id": "pdoLKKx3aMhv",
    "outputId": "0d203cff-3042-4afd-8b6a-c87fcdf6125c"
   },
   "outputs": [
    {
     "name": "stdout",
     "output_type": "stream",
     "text": [
      "Model: \"sequential\"\n",
      "_________________________________________________________________\n",
      "Layer (type)                 Output Shape              Param #   \n",
      "=================================================================\n",
      "lstm (LSTM)                  (None, 5, 150)            91200     \n",
      "_________________________________________________________________\n",
      "dropout (Dropout)            (None, 5, 150)            0         \n",
      "_________________________________________________________________\n",
      "lstm_1 (LSTM)                (None, 120)               130080    \n",
      "_________________________________________________________________\n",
      "dropout_1 (Dropout)          (None, 120)               0         \n",
      "_________________________________________________________________\n",
      "dense (Dense)                (None, 1)                 121       \n",
      "=================================================================\n",
      "Total params: 221,401\n",
      "Trainable params: 221,401\n",
      "Non-trainable params: 0\n",
      "_________________________________________________________________\n"
     ]
    }
   ],
   "source": [
    "# First LSTM Layer \n",
    "model.add(LSTM(units=150, input_shape=(X_train.shape[1],1) , return_sequences=True))\n",
    "model.add(Dropout(0.2))\n",
    "\n",
    "# Second LSTM Layer\n",
    "model.add(LSTM(units=120))\n",
    "model.add(Dropout(0.2))\n",
    "\n",
    "# final output layer\n",
    "model.add(Dense(units=1))\n",
    "model.summary()"
   ]
  },
  {
   "cell_type": "code",
   "execution_count": 15,
   "metadata": {
    "colab": {
     "base_uri": "https://localhost:8080/"
    },
    "id": "Qe5UXRPgbQHr",
    "outputId": "1a1583c4-2513-46b1-9e8d-66606e123db9"
   },
   "outputs": [
    {
     "name": "stdout",
     "output_type": "stream",
     "text": [
      "Epoch 1/200\n",
      "3/3 [==============================] - 3s 388ms/step - loss: 0.0543 - val_loss: 0.0815\n",
      "Epoch 2/200\n",
      "3/3 [==============================] - 0s 21ms/step - loss: 0.0230 - val_loss: 0.0142\n",
      "Epoch 3/200\n",
      "3/3 [==============================] - 0s 20ms/step - loss: 0.0092 - val_loss: 0.0084\n",
      "Epoch 4/200\n",
      "3/3 [==============================] - 0s 66ms/step - loss: 0.0139 - val_loss: 0.0051\n",
      "Epoch 5/200\n",
      "3/3 [==============================] - 0s 21ms/step - loss: 0.0094 - val_loss: 0.0136\n",
      "Epoch 6/200\n",
      "3/3 [==============================] - 0s 19ms/step - loss: 0.0082 - val_loss: 0.0231\n",
      "Epoch 7/200\n",
      "3/3 [==============================] - 0s 19ms/step - loss: 0.0087 - val_loss: 0.0180\n",
      "Epoch 8/200\n",
      "3/3 [==============================] - 0s 18ms/step - loss: 0.0089 - val_loss: 0.0087\n",
      "Epoch 9/200\n",
      "3/3 [==============================] - 0s 18ms/step - loss: 0.0073 - val_loss: 0.0055\n",
      "Epoch 10/200\n",
      "3/3 [==============================] - 0s 18ms/step - loss: 0.0077 - val_loss: 0.0058\n",
      "Epoch 11/200\n",
      "3/3 [==============================] - 0s 19ms/step - loss: 0.0072 - val_loss: 0.0063\n",
      "Epoch 12/200\n",
      "3/3 [==============================] - 0s 18ms/step - loss: 0.0056 - val_loss: 0.0083\n",
      "Epoch 13/200\n",
      "3/3 [==============================] - 0s 18ms/step - loss: 0.0062 - val_loss: 0.0075\n",
      "Epoch 14/200\n",
      "3/3 [==============================] - 0s 19ms/step - loss: 0.0064 - val_loss: 0.0062\n",
      "Epoch 15/200\n",
      "3/3 [==============================] - 0s 19ms/step - loss: 0.0053 - val_loss: 0.0062\n",
      "Epoch 16/200\n",
      "3/3 [==============================] - 0s 19ms/step - loss: 0.0058 - val_loss: 0.0062\n",
      "Epoch 17/200\n",
      "3/3 [==============================] - 0s 18ms/step - loss: 0.0055 - val_loss: 0.0063\n",
      "Epoch 18/200\n",
      "3/3 [==============================] - 0s 19ms/step - loss: 0.0063 - val_loss: 0.0063\n",
      "Epoch 19/200\n",
      "3/3 [==============================] - 0s 18ms/step - loss: 0.0053 - val_loss: 0.0064\n",
      "Epoch 20/200\n",
      "3/3 [==============================] - 0s 19ms/step - loss: 0.0061 - val_loss: 0.0062\n",
      "Epoch 21/200\n",
      "3/3 [==============================] - 0s 18ms/step - loss: 0.0057 - val_loss: 0.0060\n",
      "Epoch 22/200\n",
      "3/3 [==============================] - 0s 18ms/step - loss: 0.0059 - val_loss: 0.0059\n",
      "Epoch 23/200\n",
      "3/3 [==============================] - 0s 19ms/step - loss: 0.0055 - val_loss: 0.0058\n",
      "Epoch 24/200\n",
      "3/3 [==============================] - 0s 19ms/step - loss: 0.0056 - val_loss: 0.0059\n",
      "Epoch 25/200\n",
      "3/3 [==============================] - 0s 20ms/step - loss: 0.0051 - val_loss: 0.0060\n",
      "Epoch 26/200\n",
      "3/3 [==============================] - 0s 19ms/step - loss: 0.0049 - val_loss: 0.0058\n",
      "Epoch 27/200\n",
      "3/3 [==============================] - 0s 19ms/step - loss: 0.0058 - val_loss: 0.0055\n",
      "Epoch 28/200\n",
      "3/3 [==============================] - 0s 18ms/step - loss: 0.0052 - val_loss: 0.0057\n",
      "Epoch 29/200\n",
      "3/3 [==============================] - 0s 18ms/step - loss: 0.0049 - val_loss: 0.0060\n",
      "Epoch 30/200\n",
      "3/3 [==============================] - 0s 19ms/step - loss: 0.0060 - val_loss: 0.0057\n",
      "Epoch 31/200\n",
      "3/3 [==============================] - 0s 18ms/step - loss: 0.0058 - val_loss: 0.0058\n",
      "Epoch 32/200\n",
      "3/3 [==============================] - 0s 19ms/step - loss: 0.0052 - val_loss: 0.0056\n",
      "Epoch 33/200\n",
      "3/3 [==============================] - 0s 17ms/step - loss: 0.0053 - val_loss: 0.0052\n",
      "Epoch 34/200\n",
      "3/3 [==============================] - 0s 17ms/step - loss: 0.0048 - val_loss: 0.0054\n",
      "Epoch 35/200\n",
      "3/3 [==============================] - 0s 19ms/step - loss: 0.0046 - val_loss: 0.0054\n",
      "Epoch 36/200\n",
      "3/3 [==============================] - 0s 20ms/step - loss: 0.0062 - val_loss: 0.0054\n",
      "Epoch 37/200\n",
      "3/3 [==============================] - 0s 18ms/step - loss: 0.0046 - val_loss: 0.0053\n",
      "Epoch 38/200\n",
      "3/3 [==============================] - 0s 17ms/step - loss: 0.0067 - val_loss: 0.0051\n",
      "Epoch 39/200\n",
      "3/3 [==============================] - 0s 18ms/step - loss: 0.0056 - val_loss: 0.0053\n",
      "Epoch 40/200\n",
      "3/3 [==============================] - 0s 18ms/step - loss: 0.0050 - val_loss: 0.0057\n",
      "Epoch 41/200\n",
      "3/3 [==============================] - 0s 18ms/step - loss: 0.0059 - val_loss: 0.0050\n",
      "Epoch 42/200\n",
      "3/3 [==============================] - 0s 18ms/step - loss: 0.0049 - val_loss: 0.0050\n",
      "Epoch 43/200\n",
      "3/3 [==============================] - 0s 18ms/step - loss: 0.0052 - val_loss: 0.0050\n",
      "Epoch 44/200\n",
      "3/3 [==============================] - 0s 18ms/step - loss: 0.0053 - val_loss: 0.0052\n",
      "Epoch 45/200\n",
      "3/3 [==============================] - 0s 18ms/step - loss: 0.0054 - val_loss: 0.0056\n",
      "Epoch 46/200\n",
      "3/3 [==============================] - 0s 18ms/step - loss: 0.0051 - val_loss: 0.0048\n",
      "Epoch 47/200\n",
      "3/3 [==============================] - 0s 18ms/step - loss: 0.0049 - val_loss: 0.0043\n",
      "Epoch 48/200\n",
      "3/3 [==============================] - 0s 19ms/step - loss: 0.0045 - val_loss: 0.0058\n",
      "Epoch 49/200\n",
      "3/3 [==============================] - 0s 19ms/step - loss: 0.0059 - val_loss: 0.0065\n",
      "Epoch 50/200\n",
      "3/3 [==============================] - 0s 18ms/step - loss: 0.0047 - val_loss: 0.0042\n",
      "Epoch 51/200\n",
      "3/3 [==============================] - 0s 18ms/step - loss: 0.0050 - val_loss: 0.0040\n",
      "Epoch 52/200\n",
      "3/3 [==============================] - 0s 19ms/step - loss: 0.0046 - val_loss: 0.0051\n",
      "Epoch 53/200\n",
      "3/3 [==============================] - 0s 18ms/step - loss: 0.0052 - val_loss: 0.0084\n",
      "Epoch 54/200\n",
      "3/3 [==============================] - 0s 69ms/step - loss: 0.0050 - val_loss: 0.0046\n",
      "Epoch 55/200\n",
      "3/3 [==============================] - 0s 21ms/step - loss: 0.0053 - val_loss: 0.0040\n",
      "Epoch 56/200\n",
      "3/3 [==============================] - 0s 17ms/step - loss: 0.0066 - val_loss: 0.0045\n",
      "Epoch 57/200\n",
      "3/3 [==============================] - 0s 19ms/step - loss: 0.0059 - val_loss: 0.0074\n",
      "Epoch 58/200\n",
      "3/3 [==============================] - 0s 17ms/step - loss: 0.0056 - val_loss: 0.0069\n",
      "Epoch 59/200\n",
      "3/3 [==============================] - 0s 19ms/step - loss: 0.0056 - val_loss: 0.0039\n",
      "Epoch 60/200\n",
      "3/3 [==============================] - 0s 18ms/step - loss: 0.0057 - val_loss: 0.0038\n",
      "Epoch 61/200\n",
      "3/3 [==============================] - 0s 18ms/step - loss: 0.0047 - val_loss: 0.0044\n",
      "Epoch 62/200\n",
      "3/3 [==============================] - 0s 18ms/step - loss: 0.0043 - val_loss: 0.0050\n",
      "Epoch 63/200\n",
      "3/3 [==============================] - 0s 17ms/step - loss: 0.0045 - val_loss: 0.0058\n",
      "Epoch 64/200\n",
      "3/3 [==============================] - 0s 17ms/step - loss: 0.0044 - val_loss: 0.0043\n",
      "Epoch 65/200\n",
      "3/3 [==============================] - 0s 18ms/step - loss: 0.0049 - val_loss: 0.0037\n",
      "Epoch 66/200\n",
      "3/3 [==============================] - 0s 17ms/step - loss: 0.0050 - val_loss: 0.0041\n",
      "Epoch 67/200\n",
      "3/3 [==============================] - 0s 19ms/step - loss: 0.0051 - val_loss: 0.0061\n",
      "Epoch 68/200\n",
      "3/3 [==============================] - 0s 17ms/step - loss: 0.0043 - val_loss: 0.0053\n",
      "Epoch 69/200\n",
      "3/3 [==============================] - 0s 17ms/step - loss: 0.0045 - val_loss: 0.0037\n",
      "Epoch 70/200\n",
      "3/3 [==============================] - 0s 18ms/step - loss: 0.0049 - val_loss: 0.0034\n",
      "Epoch 71/200\n",
      "3/3 [==============================] - 0s 18ms/step - loss: 0.0045 - val_loss: 0.0044\n",
      "Epoch 72/200\n",
      "3/3 [==============================] - 0s 18ms/step - loss: 0.0044 - val_loss: 0.0048\n",
      "Epoch 73/200\n",
      "3/3 [==============================] - 0s 17ms/step - loss: 0.0047 - val_loss: 0.0044\n",
      "Epoch 74/200\n",
      "3/3 [==============================] - 0s 17ms/step - loss: 0.0043 - val_loss: 0.0035\n",
      "Epoch 75/200\n",
      "3/3 [==============================] - 0s 18ms/step - loss: 0.0044 - val_loss: 0.0036\n",
      "Epoch 76/200\n",
      "3/3 [==============================] - 0s 17ms/step - loss: 0.0043 - val_loss: 0.0042\n",
      "Epoch 77/200\n",
      "3/3 [==============================] - 0s 19ms/step - loss: 0.0044 - val_loss: 0.0048\n",
      "Epoch 78/200\n",
      "3/3 [==============================] - 0s 17ms/step - loss: 0.0045 - val_loss: 0.0041\n",
      "Epoch 79/200\n",
      "3/3 [==============================] - 0s 17ms/step - loss: 0.0047 - val_loss: 0.0035\n",
      "Epoch 80/200\n",
      "3/3 [==============================] - 0s 18ms/step - loss: 0.0042 - val_loss: 0.0042\n",
      "Epoch 81/200\n",
      "3/3 [==============================] - 0s 17ms/step - loss: 0.0040 - val_loss: 0.0042\n",
      "Epoch 82/200\n",
      "3/3 [==============================] - 0s 18ms/step - loss: 0.0049 - val_loss: 0.0029\n",
      "Epoch 83/200\n",
      "3/3 [==============================] - 0s 18ms/step - loss: 0.0038 - val_loss: 0.0030\n"
     ]
    },
    {
     "name": "stdout",
     "output_type": "stream",
     "text": [
      "Epoch 84/200\n",
      "3/3 [==============================] - 0s 18ms/step - loss: 0.0036 - val_loss: 0.0039\n",
      "Epoch 85/200\n",
      "3/3 [==============================] - 0s 17ms/step - loss: 0.0044 - val_loss: 0.0045\n",
      "Epoch 86/200\n",
      "3/3 [==============================] - 0s 19ms/step - loss: 0.0039 - val_loss: 0.0045\n",
      "Epoch 87/200\n",
      "3/3 [==============================] - 0s 17ms/step - loss: 0.0032 - val_loss: 0.0032\n",
      "Epoch 88/200\n",
      "3/3 [==============================] - 0s 17ms/step - loss: 0.0039 - val_loss: 0.0037\n",
      "Epoch 89/200\n",
      "3/3 [==============================] - 0s 17ms/step - loss: 0.0044 - val_loss: 0.0032\n",
      "Epoch 90/200\n",
      "3/3 [==============================] - 0s 16ms/step - loss: 0.0043 - val_loss: 0.0040\n",
      "Epoch 91/200\n",
      "3/3 [==============================] - 0s 17ms/step - loss: 0.0040 - val_loss: 0.0054\n",
      "Epoch 92/200\n",
      "3/3 [==============================] - 0s 16ms/step - loss: 0.0047 - val_loss: 0.0052\n",
      "Epoch 93/200\n",
      "3/3 [==============================] - 0s 17ms/step - loss: 0.0035 - val_loss: 0.0044\n",
      "Epoch 94/200\n",
      "3/3 [==============================] - 0s 16ms/step - loss: 0.0043 - val_loss: 0.0035\n",
      "Epoch 95/200\n",
      "3/3 [==============================] - 0s 17ms/step - loss: 0.0040 - val_loss: 0.0070\n",
      "Epoch 96/200\n",
      "3/3 [==============================] - 0s 17ms/step - loss: 0.0034 - val_loss: 0.0037\n",
      "Epoch 97/200\n",
      "3/3 [==============================] - 0s 17ms/step - loss: 0.0039 - val_loss: 0.0028\n",
      "Epoch 98/200\n",
      "3/3 [==============================] - 0s 16ms/step - loss: 0.0038 - val_loss: 0.0048\n",
      "Epoch 99/200\n",
      "3/3 [==============================] - 0s 17ms/step - loss: 0.0031 - val_loss: 0.0066\n",
      "Epoch 100/200\n",
      "3/3 [==============================] - 0s 17ms/step - loss: 0.0037 - val_loss: 0.0030\n",
      "Epoch 101/200\n",
      "3/3 [==============================] - 0s 17ms/step - loss: 0.0042 - val_loss: 0.0044\n",
      "Epoch 102/200\n",
      "3/3 [==============================] - 0s 16ms/step - loss: 0.0034 - val_loss: 0.0068\n",
      "Epoch 103/200\n",
      "3/3 [==============================] - 0s 17ms/step - loss: 0.0034 - val_loss: 0.0052\n",
      "Epoch 104/200\n",
      "3/3 [==============================] - 0s 63ms/step - loss: 0.0038 - val_loss: 0.0021\n",
      "Epoch 105/200\n",
      "3/3 [==============================] - 0s 19ms/step - loss: 0.0038 - val_loss: 0.0052\n",
      "Epoch 106/200\n",
      "3/3 [==============================] - 0s 16ms/step - loss: 0.0032 - val_loss: 0.0066\n",
      "Epoch 107/200\n",
      "3/3 [==============================] - 0s 17ms/step - loss: 0.0039 - val_loss: 0.0049\n",
      "Epoch 108/200\n",
      "3/3 [==============================] - 0s 17ms/step - loss: 0.0033 - val_loss: 0.0038\n",
      "Epoch 109/200\n",
      "3/3 [==============================] - 0s 16ms/step - loss: 0.0030 - val_loss: 0.0041\n",
      "Epoch 110/200\n",
      "3/3 [==============================] - 0s 17ms/step - loss: 0.0034 - val_loss: 0.0052\n",
      "Epoch 111/200\n",
      "3/3 [==============================] - 0s 16ms/step - loss: 0.0033 - val_loss: 0.0066\n",
      "Epoch 112/200\n",
      "3/3 [==============================] - 0s 17ms/step - loss: 0.0036 - val_loss: 0.0038\n",
      "Epoch 113/200\n",
      "3/3 [==============================] - 0s 18ms/step - loss: 0.0041 - val_loss: 0.0059\n",
      "Epoch 114/200\n",
      "3/3 [==============================] - 0s 18ms/step - loss: 0.0035 - val_loss: 0.0063\n",
      "Epoch 115/200\n",
      "3/3 [==============================] - 0s 18ms/step - loss: 0.0029 - val_loss: 0.0032\n",
      "Epoch 116/200\n",
      "3/3 [==============================] - 0s 18ms/step - loss: 0.0032 - val_loss: 0.0032\n",
      "Epoch 117/200\n",
      "3/3 [==============================] - 0s 18ms/step - loss: 0.0033 - val_loss: 0.0061\n",
      "Epoch 118/200\n",
      "3/3 [==============================] - 0s 18ms/step - loss: 0.0031 - val_loss: 0.0050\n",
      "Epoch 119/200\n",
      "3/3 [==============================] - 0s 18ms/step - loss: 0.0029 - val_loss: 0.0028\n",
      "Epoch 120/200\n",
      "3/3 [==============================] - 0s 17ms/step - loss: 0.0041 - val_loss: 0.0035\n",
      "Epoch 121/200\n",
      "3/3 [==============================] - 0s 17ms/step - loss: 0.0038 - val_loss: 0.0043\n",
      "Epoch 122/200\n",
      "3/3 [==============================] - 0s 17ms/step - loss: 0.0030 - val_loss: 0.0061\n",
      "Epoch 123/200\n",
      "3/3 [==============================] - 0s 16ms/step - loss: 0.0030 - val_loss: 0.0053\n",
      "Epoch 124/200\n",
      "3/3 [==============================] - 0s 17ms/step - loss: 0.0032 - val_loss: 0.0036\n",
      "Epoch 125/200\n",
      "3/3 [==============================] - 0s 16ms/step - loss: 0.0033 - val_loss: 0.0029\n",
      "Epoch 126/200\n",
      "3/3 [==============================] - 0s 17ms/step - loss: 0.0026 - val_loss: 0.0042\n",
      "Epoch 127/200\n",
      "3/3 [==============================] - 0s 17ms/step - loss: 0.0028 - val_loss: 0.0057\n",
      "Epoch 128/200\n",
      "3/3 [==============================] - 0s 16ms/step - loss: 0.0030 - val_loss: 0.0052\n",
      "Epoch 129/200\n",
      "3/3 [==============================] - 0s 17ms/step - loss: 0.0030 - val_loss: 0.0042\n",
      "Epoch 130/200\n",
      "3/3 [==============================] - 0s 16ms/step - loss: 0.0027 - val_loss: 0.0077\n",
      "Epoch 131/200\n",
      "3/3 [==============================] - 0s 17ms/step - loss: 0.0033 - val_loss: 0.0051\n",
      "Epoch 132/200\n",
      "3/3 [==============================] - 0s 16ms/step - loss: 0.0032 - val_loss: 0.0041\n",
      "Epoch 133/200\n",
      "3/3 [==============================] - 0s 17ms/step - loss: 0.0030 - val_loss: 0.0050\n",
      "Epoch 134/200\n",
      "3/3 [==============================] - 0s 17ms/step - loss: 0.0022 - val_loss: 0.0076\n",
      "Epoch 135/200\n",
      "3/3 [==============================] - 0s 16ms/step - loss: 0.0032 - val_loss: 0.0051\n",
      "Epoch 136/200\n",
      "3/3 [==============================] - 0s 17ms/step - loss: 0.0025 - val_loss: 0.0033\n",
      "Epoch 137/200\n",
      "3/3 [==============================] - 0s 18ms/step - loss: 0.0026 - val_loss: 0.0041\n",
      "Epoch 138/200\n",
      "3/3 [==============================] - 0s 17ms/step - loss: 0.0027 - val_loss: 0.0064\n",
      "Epoch 139/200\n",
      "3/3 [==============================] - 0s 18ms/step - loss: 0.0030 - val_loss: 0.0046\n",
      "Epoch 140/200\n",
      "3/3 [==============================] - 0s 17ms/step - loss: 0.0030 - val_loss: 0.0038\n",
      "Epoch 141/200\n",
      "3/3 [==============================] - 0s 17ms/step - loss: 0.0029 - val_loss: 0.0041\n",
      "Epoch 142/200\n",
      "3/3 [==============================] - 0s 18ms/step - loss: 0.0032 - val_loss: 0.0066\n",
      "Epoch 143/200\n",
      "3/3 [==============================] - 0s 17ms/step - loss: 0.0024 - val_loss: 0.0041\n",
      "Epoch 144/200\n",
      "3/3 [==============================] - 0s 18ms/step - loss: 0.0029 - val_loss: 0.0031\n",
      "Epoch 145/200\n",
      "3/3 [==============================] - 0s 18ms/step - loss: 0.0023 - val_loss: 0.0071\n",
      "Epoch 146/200\n",
      "3/3 [==============================] - 0s 17ms/step - loss: 0.0029 - val_loss: 0.0088\n",
      "Epoch 147/200\n",
      "3/3 [==============================] - 0s 17ms/step - loss: 0.0030 - val_loss: 0.0031\n",
      "Epoch 148/200\n",
      "3/3 [==============================] - 0s 17ms/step - loss: 0.0026 - val_loss: 0.0036\n",
      "Epoch 149/200\n",
      "3/3 [==============================] - 0s 17ms/step - loss: 0.0026 - val_loss: 0.0048\n",
      "Epoch 150/200\n",
      "3/3 [==============================] - 0s 17ms/step - loss: 0.0027 - val_loss: 0.0042\n",
      "Epoch 151/200\n",
      "3/3 [==============================] - 0s 16ms/step - loss: 0.0025 - val_loss: 0.0036\n",
      "Epoch 152/200\n",
      "3/3 [==============================] - 0s 16ms/step - loss: 0.0028 - val_loss: 0.0030\n",
      "Epoch 153/200\n",
      "3/3 [==============================] - 0s 17ms/step - loss: 0.0024 - val_loss: 0.0038\n",
      "Epoch 154/200\n",
      "3/3 [==============================] - 0s 65ms/step - loss: 0.0023 - val_loss: 0.0040\n",
      "Epoch 155/200\n",
      "3/3 [==============================] - 0s 18ms/step - loss: 0.0022 - val_loss: 0.0036\n",
      "Epoch 156/200\n",
      "3/3 [==============================] - 0s 17ms/step - loss: 0.0025 - val_loss: 0.0036\n",
      "Epoch 157/200\n",
      "3/3 [==============================] - 0s 17ms/step - loss: 0.0020 - val_loss: 0.0026\n",
      "Epoch 158/200\n",
      "3/3 [==============================] - 0s 17ms/step - loss: 0.0021 - val_loss: 0.0044\n",
      "Epoch 159/200\n",
      "3/3 [==============================] - 0s 18ms/step - loss: 0.0029 - val_loss: 0.0045\n",
      "Epoch 160/200\n",
      "3/3 [==============================] - 0s 16ms/step - loss: 0.0021 - val_loss: 0.0033\n",
      "Epoch 161/200\n",
      "3/3 [==============================] - 0s 16ms/step - loss: 0.0026 - val_loss: 0.0049\n",
      "Epoch 162/200\n",
      "3/3 [==============================] - 0s 16ms/step - loss: 0.0027 - val_loss: 0.0040\n",
      "Epoch 163/200\n",
      "3/3 [==============================] - 0s 18ms/step - loss: 0.0024 - val_loss: 0.0027\n",
      "Epoch 164/200\n",
      "3/3 [==============================] - 0s 16ms/step - loss: 0.0023 - val_loss: 0.0032\n",
      "Epoch 165/200\n",
      "3/3 [==============================] - 0s 17ms/step - loss: 0.0023 - val_loss: 0.0044\n",
      "Epoch 166/200\n"
     ]
    },
    {
     "name": "stdout",
     "output_type": "stream",
     "text": [
      "3/3 [==============================] - 0s 17ms/step - loss: 0.0020 - val_loss: 0.0039\n",
      "Epoch 167/200\n",
      "3/3 [==============================] - 0s 17ms/step - loss: 0.0022 - val_loss: 0.0036\n",
      "Epoch 168/200\n",
      "3/3 [==============================] - 0s 17ms/step - loss: 0.0024 - val_loss: 0.0041\n",
      "Epoch 169/200\n",
      "3/3 [==============================] - 0s 17ms/step - loss: 0.0019 - val_loss: 0.0040\n",
      "Epoch 170/200\n",
      "3/3 [==============================] - 0s 17ms/step - loss: 0.0023 - val_loss: 0.0038\n",
      "Epoch 171/200\n",
      "3/3 [==============================] - 0s 17ms/step - loss: 0.0028 - val_loss: 0.0053\n",
      "Epoch 172/200\n",
      "3/3 [==============================] - 0s 17ms/step - loss: 0.0027 - val_loss: 0.0034\n",
      "Epoch 173/200\n",
      "3/3 [==============================] - 0s 17ms/step - loss: 0.0025 - val_loss: 0.0029\n",
      "Epoch 174/200\n",
      "3/3 [==============================] - 0s 17ms/step - loss: 0.0022 - val_loss: 0.0052\n",
      "Epoch 175/200\n",
      "3/3 [==============================] - 0s 18ms/step - loss: 0.0020 - val_loss: 0.0046\n",
      "Epoch 176/200\n",
      "3/3 [==============================] - 0s 17ms/step - loss: 0.0032 - val_loss: 0.0027\n",
      "Epoch 177/200\n",
      "3/3 [==============================] - 0s 18ms/step - loss: 0.0031 - val_loss: 0.0054\n",
      "Epoch 178/200\n",
      "3/3 [==============================] - 0s 17ms/step - loss: 0.0024 - val_loss: 0.0058\n",
      "Epoch 179/200\n",
      "3/3 [==============================] - 0s 17ms/step - loss: 0.0025 - val_loss: 0.0039\n",
      "Epoch 180/200\n",
      "3/3 [==============================] - 0s 17ms/step - loss: 0.0023 - val_loss: 0.0034\n",
      "Epoch 181/200\n",
      "3/3 [==============================] - 0s 16ms/step - loss: 0.0019 - val_loss: 0.0038\n",
      "Epoch 182/200\n",
      "3/3 [==============================] - 0s 17ms/step - loss: 0.0022 - val_loss: 0.0055\n",
      "Epoch 183/200\n",
      "3/3 [==============================] - 0s 16ms/step - loss: 0.0023 - val_loss: 0.0036\n",
      "Epoch 184/200\n",
      "3/3 [==============================] - 0s 17ms/step - loss: 0.0025 - val_loss: 0.0029\n",
      "Epoch 185/200\n",
      "3/3 [==============================] - 0s 17ms/step - loss: 0.0023 - val_loss: 0.0037\n",
      "Epoch 186/200\n",
      "3/3 [==============================] - 0s 16ms/step - loss: 0.0019 - val_loss: 0.0049\n",
      "Epoch 187/200\n",
      "3/3 [==============================] - 0s 17ms/step - loss: 0.0021 - val_loss: 0.0036\n",
      "Epoch 188/200\n",
      "3/3 [==============================] - 0s 17ms/step - loss: 0.0026 - val_loss: 0.0034\n",
      "Epoch 189/200\n",
      "3/3 [==============================] - 0s 17ms/step - loss: 0.0021 - val_loss: 0.0038\n",
      "Epoch 190/200\n",
      "3/3 [==============================] - 0s 17ms/step - loss: 0.0022 - val_loss: 0.0040\n",
      "Epoch 191/200\n",
      "3/3 [==============================] - 0s 16ms/step - loss: 0.0019 - val_loss: 0.0043\n",
      "Epoch 192/200\n",
      "3/3 [==============================] - 0s 16ms/step - loss: 0.0021 - val_loss: 0.0040\n",
      "Epoch 193/200\n",
      "3/3 [==============================] - 0s 19ms/step - loss: 0.0026 - val_loss: 0.0035\n",
      "Epoch 194/200\n",
      "3/3 [==============================] - 0s 17ms/step - loss: 0.0020 - val_loss: 0.0034\n",
      "Epoch 195/200\n",
      "3/3 [==============================] - 0s 16ms/step - loss: 0.0021 - val_loss: 0.0042\n",
      "Epoch 196/200\n",
      "3/3 [==============================] - 0s 17ms/step - loss: 0.0023 - val_loss: 0.0043\n",
      "Epoch 197/200\n",
      "3/3 [==============================] - 0s 16ms/step - loss: 0.0018 - val_loss: 0.0037\n",
      "Epoch 198/200\n",
      "3/3 [==============================] - 0s 17ms/step - loss: 0.0024 - val_loss: 0.0037\n",
      "Epoch 199/200\n",
      "3/3 [==============================] - 0s 17ms/step - loss: 0.0025 - val_loss: 0.0042\n",
      "Epoch 200/200\n",
      "3/3 [==============================] - 0s 17ms/step - loss: 0.0021 - val_loss: 0.0043\n"
     ]
    }
   ],
   "source": [
    "# compile model\n",
    "model.compile(optimizer='adam', loss='MSE')\n",
    "\n",
    "# fit model\n",
    "history = model.fit(X_train,Y_train,epochs=200,batch_size=32,validation_split=0.05)"
   ]
  },
  {
   "cell_type": "code",
   "execution_count": 16,
   "metadata": {
    "id": "0jekmZKAciA9"
   },
   "outputs": [],
   "source": [
    "# Predict number of passengers for test dataset\n",
    "y_predict = model.predict(X_test)"
   ]
  },
  {
   "cell_type": "code",
   "execution_count": 17,
   "metadata": {
    "colab": {
     "base_uri": "https://localhost:8080/",
     "height": 312
    },
    "id": "cyQfYDX_cmzW",
    "outputId": "3e4be4ef-d771-4da6-ef31-7d337174bdba"
   },
   "outputs": [
    {
     "data": {
      "text/plain": [
       "<matplotlib.legend.Legend at 0x1599c1ee0>"
      ]
     },
     "execution_count": 17,
     "metadata": {},
     "output_type": "execute_result"
    },
    {
     "data": {
      "image/png": "[encoded data removed]",
      "text/plain": [
       "<Figure size 648x288 with 1 Axes>"
      ]
     },
     "metadata": {
      "needs_background": "light"
     },
     "output_type": "display_data"
    }
   ],
   "source": [
    "# illustrate train and test dataset with their prediction \n",
    "\n",
    "plt.figure(figsize=(9, 4))\n",
    "\n",
    "\n",
    "plt.plot(X_number_train, Y_train, label='Real number of passengers-Train dataset')\n",
    "plt.plot(X_number_train, model.predict(X_train), label='Predicted number of passengers-Train dataset')\n",
    "  \n",
    "\n",
    "plt.plot(X_number_test, Y_test, label='Real number of passengers-Test dataset')\n",
    "plt.plot(X_number_test, y_predict, label='Predicted number of passengers-Test dataset')\n",
    "  \n",
    "plt.xlabel('International airline passengers')\n",
    "plt.ylabel('Show predicted and true values of y')\n",
    "plt.title(\"Show the difference of testing model on train and test dataset\")\n",
    "\n",
    "plt.legend()"
   ]
  },
  {
   "cell_type": "code",
   "execution_count": 18,
   "metadata": {
    "colab": {
     "base_uri": "https://localhost:8080/"
    },
    "id": "vP93jjE8irUi",
    "outputId": "bc052905-efcc-4bca-d523-3d3d7eca551a"
   },
   "outputs": [
    {
     "data": {
      "text/plain": [
       "0.0018644410884007812"
      ]
     },
     "execution_count": 18,
     "metadata": {},
     "output_type": "execute_result"
    }
   ],
   "source": [
    "train_loss = model.evaluate(X_train, Y_train, verbose=0)\n",
    "train_loss"
   ]
  },
  {
   "cell_type": "code",
   "execution_count": 19,
   "metadata": {
    "colab": {
     "base_uri": "https://localhost:8080/"
    },
    "id": "u5eKxffB93gk",
    "outputId": "3b05af69-becc-482c-eba4-9e87195c3ac5"
   },
   "outputs": [
    {
     "data": {
      "text/plain": [
       "0.010854242369532585"
      ]
     },
     "execution_count": 19,
     "metadata": {},
     "output_type": "execute_result"
    }
   ],
   "source": [
    "test_loss = model.evaluate(X_test, Y_test, verbose=0)\n",
    "test_loss"
   ]
  },
  {
   "cell_type": "code",
   "execution_count": null,
   "metadata": {
    "id": "XZMHsZ8t_ZxR"
   },
   "outputs": [],
   "source": []
  }
 ],
 "metadata": {
  "colab": {
   "collapsed_sections": [],
   "name": "RNN_Number_Of_Passengers.ipynb",
   "provenance": []
  },
  "kernelspec": {
   "display_name": "Python 3",
   "language": "python",
   "name": "python3"
  },
  "language_info": {
   "codemirror_mode": {
    "name": "ipython",
    "version": 3
   },
   "file_extension": ".py",
   "mimetype": "text/x-python",
   "name": "python",
   "nbconvert_exporter": "python",
   "pygments_lexer": "ipython3",
   "version": "3.8.1"
  }
 },
 "nbformat": 4,
 "nbformat_minor": 1
}
